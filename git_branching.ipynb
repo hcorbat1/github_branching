{
 "cells": [
  {
   "cell_type": "markdown",
   "id": "53d6f618",
   "metadata": {},
   "source": [
    "# Git and Branching \n",
    "### Understanding Uncertainty"
   ]
  },
  {
   "cell_type": "markdown",
   "id": "333e2beb",
   "metadata": {},
   "source": [
    "## Working Productively Together\n",
    "- It's time to do some more Git/GitHub\n",
    "- Last time, we covered the basics (clone/pull/commit/add/push), and saw some workflows that resulted in updated repos, and some workflows that ended in chaos\n",
    "- Today, we want to explore another layer of git: Branching, in order to allow people to work productively on the same project at the same time"
   ]
  },
  {
   "cell_type": "markdown",
   "id": "eb2c1fe4",
   "metadata": {},
   "source": [
    "## Forking a repo\n",
    "- Pod leaders, please go to this repo, and **fork** it: \n",
    "\n",
    "![Fork](./src/fork.png)\n",
    "\n",
    "- This gives you your own copy. Once you've forked, add your group members as collaborators."
   ]
  },
  {
   "cell_type": "markdown",
   "id": "b05ea190",
   "metadata": {},
   "source": [
    "## Discuss\n",
    "- In the assignment_4.ipynb file, there are 6 questions, and you have to do three\n",
    "- Pick three questions, and divide up work (either within or across questions, feel free to pair-program if you have a big group)\n",
    "- Take 5 minutes to plan out who is going to do what\n",
    "- You can all turn in the same repo"
   ]
  },
  {
   "cell_type": "markdown",
   "id": "59995c44",
   "metadata": {},
   "source": [
    "## Branching\n",
    "- Group members, do your normal routine: `git clone` the repo, open it in VS Code\n",
    "- Now, you are going to create your own local version:\n",
    "`git branch <branchname>`\n",
    "- To see all the branches, type `git branch -a`\n",
    "- To switch branches, use `git checkout <branchname>`\n",
    "- Check out your branch\n",
    "- Check the switch using `git status`\n",
    "- (You can use `git checkout -b <branchname>` to combine the `git branch` and `git checkout` into one step)"
   ]
  },
  {
   "cell_type": "markdown",
   "id": "76db1e3a",
   "metadata": {},
   "source": [
    "## Work!\n",
    "- Take 15 minutes and work on the problems, among your group members\n",
    "- You should probably create a new .py or .ipynb file to work on"
   ]
  },
  {
   "cell_type": "markdown",
   "id": "dd8b6895",
   "metadata": {
    "vscode": {
     "languageId": "plaintext"
    }
   },
   "source": [
    "## Add, Commit, and Push\n",
    "- If you created any new files, `git add` them to your branch\n",
    "- Make a commit: `git commit -am 'message'`\n",
    "- Use push/publish branch in Source Control or `git push origin <branchname>` to send changes back to GitHub"
   ]
  },
  {
   "cell_type": "markdown",
   "id": "2ad1dfe1",
   "metadata": {
    "vscode": {
     "languageId": "bat"
    }
   },
   "source": [
    "## Pull Requests\n",
    "- On GitHub, the pod captain should see a message about `Pull Requests`\n",
    "\n",
    "![Pull request](./src/pullrequest.png)\n",
    "\n",
    "- This opens a dialog where the work can be pulled into the main branch, and the repo updated\n",
    "- It will display the commits, any conflicts, and then hopefully say \n",
    "\n",
    "![Pull request](./src/merger.png)\n",
    "\n",
    "- The pod leader can comment at the bottom, and then execute the merge, updating the main branch of the project; deleting the merged branch is fine"
   ]
  },
  {
   "cell_type": "markdown",
   "id": "8c0241af",
   "metadata": {},
   "source": [
    "## Updating Local Repos\n",
    "- In order to update your local repos, you need to `git checkout main` and then `git pull` to update the main branch for your local copy\n",
    "- If something has gone wrong with the project, you can always look at the project history, and revert to an earlier state or grab files/code:\n",
    "\n",
    "![History](./src/history.png)\n",
    "\n"
   ]
  },
  {
   "cell_type": "markdown",
   "id": "2fc287e3",
   "metadata": {},
   "source": [
    "## Conclusion\n",
    "- Now, you can avoid working on the main branch all at the same time: Create your own off-shoots of the project, push them back, and let Git figure out whether the changes can be cleanly merged back in\n",
    "- I really think we're better off encouraging group work, getting muscle memory with Git, and being able to share code and problems in class; this is (hopefully) the step that really makes that possible"
   ]
  }
 ],
 "metadata": {
  "language_info": {
   "name": "python"
  }
 },
 "nbformat": 4,
 "nbformat_minor": 5
}
